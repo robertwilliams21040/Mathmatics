{
 "cells": [
  {
   "attachments": {},
   "cell_type": "markdown",
   "metadata": {},
   "source": [
    "Compute the limit $\\lim\\limits_{x \\to \\ 2^-}\\frac{x^2 - 4}{x^2 - 5x + 6}$  \n",
    "\n",
    "$ \\frac{(x + 2)\\cancel{(x - 2)}}{\\cancel{(x - 2)}(x - 3)}  \\qquad \\to  \\qquad  \\frac{(x + 2)}{(x - 3)}$ - factor and cancel  \n",
    "\n",
    "$ \\frac{((2) + 2)}{((2) - 3)}  \\to \\frac{4}{-1}  = -4$ - simplyfy \n",
    "  \n",
    "<hr>"
   ]
  },
  {
   "attachments": {},
   "cell_type": "markdown",
   "metadata": {},
   "source": [
    "Compute the limit $\\lim\\limits_{x \\to \\ 0}\\frac{x^2 - 9}{sin(x)}$ \n",
    "  \n",
    "$ \\frac{(0)^2 - 9}{sin(0)} \\to \\frac{ - 9}{0} $  \n",
    "  \n",
    "The limit DNE  \n",
    "  \n",
    "<hr>"
   ]
  },
  {
   "attachments": {},
   "cell_type": "markdown",
   "metadata": {},
   "source": [
    "Compute the limit $\\lim\\limits_{x \\to \\ \\infty} \\sqrt{  x^2 + ax   } -  \\sqrt{  x^2 + bx   } $  \n",
    "  \n",
    "$ \\sqrt{  x^2 + ax   } -  \\sqrt{  x^2 + bx   } * ( \\frac{    \\sqrt{  x^2 + ax   } +  \\sqrt{  x^2 + bx   }       }{        \\sqrt{  x^2 + ax   } +  \\sqrt{  x^2 + bx   }     } ) \\qquad \\to  \\qquad  \\frac{    (x^2 + ax) - (x^2 + bx)      }{        \\sqrt{  x^2 + ax   } +  \\sqrt{  x^2 + bx   }     }  $ -Multiply by conjugate  \n",
    "  \n",
    "\n",
    "$ \\frac{    (x^2 + ax) - (x^2 + bx)      }{        \\sqrt{  x^2 + ax   } +  \\sqrt{  x^2 + bx   }     }  \\to  \\frac{    ax -bx      }{        \\sqrt{  x^2(1 + \\frac{a}{x})   } +  \\sqrt{   x^2(1 + \\frac{b}{x})   }     }    \\to \\frac{    x(a - b)      }{        x[\\sqrt{  (1 + \\frac{a}{x})   } +  \\sqrt{   (1 + \\frac{b}{x})   }]     }  \\to  \\frac{    a - b      }{        \\sqrt{  (1 + \\frac{a}{x})   } +  \\sqrt{   (1 + \\frac{b}{x})   }     }  $ - Combine, simplyfy, and cancel  \n",
    "  \n",
    "$ \\frac{    a - b      }{        \\sqrt{  (1 + \\frac{a}{(0)})   } +  \\sqrt{   (1 + \\frac{b}{(0)})   }     } \\to  \\frac{    a - b      }{        \\sqrt{  (1 + 0 )  } +  \\sqrt{   (1 + 0)   }     } \\to   \\frac{    a - b      }{        \\sqrt{  1  } +  \\sqrt{   1    }     }  \\to   \\frac{    a - b      }{        1   +     1        }  \\to   \\frac{    a - b      }{       2     }$ -subtitute and simplyfy  \n",
    "  \n",
    "$  = \\frac{    a - b      }{       2     }  $  \n",
    "  \n",
    "<hr>\n"
   ]
  },
  {
   "attachments": {},
   "cell_type": "markdown",
   "metadata": {},
   "source": [
    "For what constant $a$ and $b$ is the function $f$  given by  \n",
    "$$ \n",
    "f(x) = \n",
    "\\begin{cases}\n",
    "ax^3,  &   \\: x  \\:  \\leq 2\\\\\n",
    "x^2 + b,  &   \\: x  \\:  > 2\n",
    "\\end{cases}\n",
    "$$   \n",
    "differentiable everywhere?  \n",
    "  \n",
    "\n",
    "$$ \n",
    "f'(x) = \n",
    "\\begin{cases}\n",
    "3ax^2,  &   \\: x  \\:  \\leq 2\\\\\n",
    "2x,  &   \\: x  \\:  > 2\n",
    "\\end{cases}  \n",
    "$$   \n",
    "$$ \n",
    "3ax^2 = 2x\n",
    "$$ \n",
    "-Take the derivative of both functions and set them equal to each other. \n",
    "  \n",
    "$$ 3a(2)^2 = 2(2)  \\qquad \\to  \\qquad  12a = 4 \\qquad \\to  \\qquad \\frac{\\cancel{12}a}{\\cancel{12}}   =  \\frac{4}{12} \\qquad \\to  \\qquad a  =  \\frac{4}{12}  $$ \n",
    "-solve for variable a  \n",
    "  \n",
    "$$\n",
    "\\lim\\limits_{x \\to \\ 2^-} ax^3 \\qquad =  \\qquad a(2)^3  \\qquad =  \\qquad 8a  \\\\  \n",
    "$$\n",
    "$$\n",
    "\\lim\\limits_{x \\to \\ 2^+} (x^2 + b) \\qquad \\to  \\qquad 2^2 + b  \\qquad \\to  \\qquad 4 + b \\\\\n",
    "$$ \n",
    "$$\n",
    "8a = 4 + b\n",
    "$$  \n",
    "-Find left and right limits, set them equal to each other  \n",
    "  \n",
    "$$\n",
    "8 \\frac{1}{3} = 4 + b \\qquad \\to  \\qquad \\frac{8}{3}  = 4 + b  \\qquad \\to  \\qquad  \\frac{8}{3} - 4(\\frac{3}{3})  = b \\qquad \\to  \\qquad \\frac{8}{3} - \\frac{12}{3}  = b \\qquad \\to  \\qquad b = \\frac{-4}{3}\n",
    "$$  \n",
    "  \n",
    "-Substitue back in for a and solve for b  \n",
    "  \n",
    "$ a = \\frac{4}{12},  b = \\frac{-4}{3} $ \n",
    "<hr>"
   ]
  },
  {
   "attachments": {},
   "cell_type": "markdown",
   "metadata": {},
   "source": [
    "Compute $ \\lim\\limits_{x \\to \\ 0} \\frac{tan(2x)}{sin(3x)} $  \n",
    "  \n",
    "$ \\frac{tan[2(0)]}{sin[3(0)]} \\to  \\frac{0}{0} $ -indeterminate form  \n",
    "  \n",
    "$ \\lim\\limits_{x \\to \\ 0}  \\frac{sec^2(2x) * 2}{cos(3x)* 3} $ -L'Hopital rule  \n",
    "  \n",
    "$ \\frac{sec^2[2(0)] * 2}{cos[3(0)]* 3}  \\qquad \\to  \\qquad  \\frac{1 * 2}{1 * 3}  \\qquad =  \\qquad \\frac{2}{3}  $ -substitue and simplyfy  \n",
    "  \n",
    "<hr>"
   ]
  },
  {
   "attachments": {},
   "cell_type": "markdown",
   "metadata": {},
   "source": [
    "Compute $ \\lim\\limits_{x \\to \\ \\infty} \\frac{  \\sqrt{4x^2 + x + 1}   }{3x - 1} $   \n",
    "  \n",
    "$ \\frac{  \\sqrt{\\frac{4x^2}{x^2} + \\frac{x}{x^2} + \\frac{1}{x^2}   }}{\\frac{3x}{-x} - \\frac{1}{-x}} \\qquad \\to  \\qquad  \\frac{\\sqrt{4}}{-3} \\qquad =  \\qquad -\\frac{2}{3} $ divide by largest expont (x). Numbers divide by x that do not cancel go to 0  \n",
    "  \n",
    "<hr>"
   ]
  },
  {
   "attachments": {},
   "cell_type": "markdown",
   "metadata": {},
   "source": [
    "Compute the tangent line to the ellipse given by equation $ x^2 + 4y^2 - 5 $ at point $(1,-1)$  \n",
    "  \n",
    "$ 2x + 8y\\frac{dy}{dx} $ -Take derivative with repect to x  \n",
    "  \n",
    "$ \\frac{dy}{dx} = \\frac{-2x}{8y} $ -isolate $ \\frac{dy}{dx} $  \n",
    "  \n",
    "$  \\frac{dy}{dx} = \\frac{-2(1)}{8(-1)} \\to \\frac{2}{8} \\to \\frac{1}{4} $ -substitue and simplyfy  \n",
    "  \n",
    "$ y - (-1) = \\frac{1}{4}(x - 1) $  -plug the found slope and giving points into the point slope form of a line [$y - y_1 = m(x - x_1)  $]  \n",
    "  \n",
    "$ y + 1 = \\frac{1}{4}(x - 1)  \\qquad \\to  \\qquad   y + 1 = \\frac{1}{4}x - \\frac{1}{4}  \\qquad \\to  \\qquad   y  = \\frac{1}{4}x - \\frac{1}{4} - 1 \\qquad \\to  \\qquad y  = \\frac{1}{4}x - \\frac{5}{4}  $ -solve for y   \n",
    "  \n",
    "<hr>"
   ]
  },
  {
   "attachments": {},
   "cell_type": "markdown",
   "metadata": {},
   "source": [
    "Let $f(x)  = f(g(x))$. Compute $f'(2)$ using the following information:   \n",
    "$ f(-1) = -3, f(2) = 12, g(-1) = -7, g(2) = -1 $  \n",
    "$ f'(-1) = -2, f'(2) = 8, g'(-1) = -1, g'(2) = -5 $  \n",
    "  \n",
    "$ f'(g(x)) * g'(x) $ -apply chain rule  \n",
    "  \n",
    "$ f'(g(2)) * g'(2) \\qquad \\to  \\qquad f'(-1) * 5 \\qquad \\to  \\qquad 2 * 5 = 10 $ -substitute and solve  \n",
    "  \n",
    "<hr>"
   ]
  },
  {
   "attachments": {},
   "cell_type": "markdown",
   "metadata": {},
   "source": [
    "For $ y = [sin(4x)]^8 $ , compute y'  \n",
    "  \n",
    "$ y = (u)^8  $  \n",
    "$ y' = 8(u)^7 * u' $ -substitue inner function and tak derivative  \n",
    "  \n",
    "$ u = sin(4x) $  \n",
    "$ u' = cos(4x) * 4 $  \n",
    "  \n",
    "$ y' = 8[sin(4x)]^7 * cos(4x) * 4   \\qquad \\to  \\qquad  32[sin(4x)]^7cos(4x) $ -subtitute and simplyfy  \n",
    "  \n",
    "<hr>"
   ]
  },
  {
   "attachments": {},
   "cell_type": "markdown",
   "metadata": {},
   "source": [
    "How many inflection ponts does the curve $ y = \\frac{x^5}{5} + \\frac{x^4}{4}$ have?  \n",
    "  \n",
    "$ y' = x^4 + x^3 $  \n",
    "$ y'' = 4x^3 + 3x^2 $ -take second derivative of y  \n",
    "  \n",
    "$ 0 = 4x^3 + 3x^2 \\qquad \\to  \\qquad  -3x^2 = 4x^3  \\qquad \\to  \\qquad \\frac{-3\\cancel{x^2}}{\\cancel{x^2}} = \\frac{4x^{\\cancel{3}}}{\\cancel{x^2}} \\qquad \\to  \\qquad -3 =  4x \\qquad \\to  \\qquad x = \\frac{-3}{4}$ -solve for 0  \n",
    "\n",
    "There is only 1 inflection point at $ x = \\frac{-3}{4} $  \n",
    "\n",
    "<hr>  "
   ]
  },
  {
   "attachments": {},
   "cell_type": "markdown",
   "metadata": {},
   "source": [
    "Compute the derivative $y'$ for the curve $\\sqrt{x^2 + y^2} = 2 + y$ at the point $x = 4, y = 3$  \n",
    "  \n",
    "$ (x^2 + y^2)^{\\frac{1}{2}} = 2 + y $ -turn the squart root into an exponent  \n",
    "  \n",
    "$ \\frac{1}{2} (x^2 + y^2)^{-\\frac{1}{2}} * (2x + 2y\\frac{dx}{dy} ) = \\frac{dx}{dy} $ -Take derivative with repect to x  \n",
    "  \n",
    "$ \\frac{1}{2\\sqrt{x^2 + y^2}} * 2x + 2y\\frac{dx}{dy} = \\frac{dx}{dy} $ -simplyfly  \n",
    "  \n",
    "$ \\frac{1}{2\\sqrt{(4)^2 + (3)^2}} * 2(4) + 2(3)\\frac{dx}{dy} = \\frac{dx}{dy} $ - subtitute x and y values into equation  \n",
    "  \n",
    "$ \\frac{1}{2\\sqrt{25}}(8 + 6\\frac{dx}{dy}) = \\frac{dx}{dy} \\qquad \\to  \\qquad \\frac{1}{10}(8 + 6\\frac{dx}{dy}) = \\frac{dx}{dy} \\qquad \\to  \\qquad  \\frac{8}{10} + \\frac{6}{10}\\frac{dx}{dy} = \\frac{dx}{dy} $ simplyfy (again)  \n",
    "  \n",
    "$ \\frac{8}{10} = \\frac{dx}{dy} - \\frac{6}{10}\\frac{dx}{dy} \\qquad \\to  \\qquad \\frac{8}{10} = \\frac{dx}{dy}( 1 - \\frac{6}{10}) \\qquad \\to  \\qquad  \\frac{8}{10} = \\frac{dx}{dy}( \\frac{10}{10} - \\frac{6}{10}) \\qquad \\to  \\qquad  \\frac{8}{10} = \\frac{dx}{dy}\\frac{4}{10} \\qquad \\to  \\qquad   \\frac{10}{4}\\frac{8}{10} = \\frac{dx}{dy}\\cancel{\\frac{4}{10}}\\cancel{\\frac{10}{4}} \\qquad \\to  \\qquad \\frac{80}{40} = \\frac{dx}{dy} \\qquad \\to  \\qquad \\frac{dx}{dy} = 2 $ -Solve for $\\frac{dx}{dy}$  \n",
    "  \n",
    "<hr>"
   ]
  },
  {
   "attachments": {},
   "cell_type": "markdown",
   "metadata": {},
   "source": [
    "A kite 100ft above the ground moves horizontally at a speed of $8 ft/s$. At what rate is the angle between the string and the horizontal decreasing when 200 of string has been let out?  \n",
    "  \n",
    "Variables:  \n",
    "$ \\frac{dx}{dy} = 8 ft/s $  \n",
    "$ y = 100 $  \n",
    "$ z = 200 $  \n",
    "  \n",
    "$ cot(\\theta) = \\frac{x}{y} $ -create function to relate variables (this could have also used tan)  \n",
    " \n",
    "$ cot(\\theta) = \\frac{x}{100} $ -subtitute for constants  \n",
    "  \n",
    "$ -csc^2(\\theta) * \\frac{d\\theta}{dt} = \\frac{1}{100}(\\frac{dx}{dt}) $ -take derivatve   \n",
    "  \n",
    "$ -csc^2(\\theta) * \\frac{d\\theta}{dt} = \\frac{1}{100}(\\frac{dx}{dt}) \\qquad \\to  \\qquad  \\frac{d\\theta}{dt} = \\frac{\\frac{1}{100}(\\frac{dx}{dt})}{-csc^2(\\theta)}  \\qquad \\to  \\qquad   \\frac{d\\theta}{dt} = \\frac{\\frac{1(8)}{100}}{-(\\frac{200}{100})^2}   \\qquad \\to  \\qquad   \\frac{d\\theta}{dt} = \\frac{\\frac{8}{100}}{-4} \\qquad \\to  \\qquad   \\frac{d\\theta}{dt} = -0.02$ -isolate $ \\frac{d\\theta}{dt}$, subtitue for $\\frac{dx}{dt}$ and $ -csc^2(\\theta)$, and solve  \n",
    "  \n",
    "The kite is moving away at a rate of $-0.02$ radians per second\n",
    "  \n",
    "<hr> "
   ]
  }
 ],
 "metadata": {
  "kernelspec": {
   "display_name": "Python 3.10.4 64-bit",
   "language": "python",
   "name": "python3"
  },
  "language_info": {
   "codemirror_mode": {
    "name": "ipython",
    "version": 3
   },
   "file_extension": ".py",
   "mimetype": "text/x-python",
   "name": "python",
   "nbconvert_exporter": "python",
   "pygments_lexer": "ipython3",
   "version": "3.10.4 (main, Nov  2 2022, 18:29:07) [GCC 9.4.0]"
  },
  "orig_nbformat": 2,
  "vscode": {
   "interpreter": {
    "hash": "3ad933181bd8a04b432d3370b9dc3b0662ad032c4dfaa4e4f1596c548f763858"
   }
  }
 },
 "nbformat": 4,
 "nbformat_minor": 2
}
