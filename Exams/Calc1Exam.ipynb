{
 "cells": [
  {
   "attachments": {},
   "cell_type": "markdown",
   "metadata": {},
   "source": [
    "Compute the limit $\\lim\\limits_{x \\to \\ 2^-}\\frac{x^2 - 4}{x^2 - 5x + 6}$  \n",
    "\n",
    "$ \\frac{(x + 2)\\cancel{(x - 2)}}{\\cancel{(x - 2)}(x - 3)}  \\qquad \\to  \\qquad  \\frac{(x + 2)}{(x - 3)}$ - factor and cancel  \n",
    "\n",
    "$ \\frac{((2) + 2)}{((2) - 3)}  \\to \\frac{4}{-1}  = -4$ - simplyfy \n",
    "  \n",
    "<hr>"
   ]
  },
  {
   "attachments": {},
   "cell_type": "markdown",
   "metadata": {},
   "source": [
    "Compute the limit $\\lim\\limits_{x \\to \\ 0}\\frac{x^2 - 9}{sin(x)}$ \n",
    "  \n",
    "$ \\frac{(0)^2 - 9}{sin(0)} \\to \\frac{ - 9}{0} $  \n",
    "  \n",
    "The limit DNE  \n",
    "  \n",
    "<hr>"
   ]
  },
  {
   "attachments": {},
   "cell_type": "markdown",
   "metadata": {},
   "source": [
    "Compute the limit $\\lim\\limits_{x \\to \\ \\infty} \\sqrt{  x^2 + ax   } -  \\sqrt{  x^2 + bx   } $  \n",
    "  \n",
    "$ \\sqrt{  x^2 + ax   } -  \\sqrt{  x^2 + bx   } * ( \\frac{    \\sqrt{  x^2 + ax   } +  \\sqrt{  x^2 + bx   }       }{        \\sqrt{  x^2 + ax   } +  \\sqrt{  x^2 + bx   }     } ) \\qquad \\to  \\qquad  \\frac{    (x^2 + ax) - (x^2 + bx)      }{        \\sqrt{  x^2 + ax   } +  \\sqrt{  x^2 + bx   }     }  $ -Multiply by conjugate  \n",
    "  \n",
    "\n",
    "$ \\frac{    (x^2 + ax) - (x^2 + bx)      }{        \\sqrt{  x^2 + ax   } +  \\sqrt{  x^2 + bx   }     }  \\to  \\frac{    ax -bx      }{        \\sqrt{  x^2(1 + \\frac{a}{x})   } +  \\sqrt{   x^2(1 + \\frac{b}{x})   }     }    \\to \\frac{    x(a - b)      }{        x[\\sqrt{  (1 + \\frac{a}{x})   } +  \\sqrt{   (1 + \\frac{b}{x})   }]     }  \\to  \\frac{    a - b      }{        \\sqrt{  (1 + \\frac{a}{x})   } +  \\sqrt{   (1 + \\frac{b}{x})   }     }  $ - Combine, simplyfy, and cancel  \n",
    "  \n",
    "$ \\frac{    a - b      }{        \\sqrt{  (1 + \\frac{a}{(0)})   } +  \\sqrt{   (1 + \\frac{b}{(0)})   }     } \\to  \\frac{    a - b      }{        \\sqrt{  (1 + 0 )  } +  \\sqrt{   (1 + 0)   }     } \\to   \\frac{    a - b      }{        \\sqrt{  1  } +  \\sqrt{   1    }     }  \\to   \\frac{    a - b      }{        1   +     1        }  \\to   \\frac{    a - b      }{       2     }$ -subtitute and simplyfy  \n",
    "  \n",
    "$  = \\frac{    a - b      }{       2     }  $  \n",
    "  \n",
    "<hr>\n"
   ]
  },
  {
   "attachments": {},
   "cell_type": "markdown",
   "metadata": {},
   "source": [
    "For what constant $a$ and $b$ is the function $f$  given by  \n",
    "$$ \n",
    "f(x) = \n",
    "\\begin{cases}\n",
    "ax^3,  &   \\: x  \\:  \\leq 2\\\\\n",
    "x^2 + b,  &   \\: x  \\:  > 2\n",
    "\\end{cases}\n",
    "$$   \n",
    "differentiable everywhere?  \n",
    "  \n",
    "\n",
    "$$ \n",
    "f'(x) = \n",
    "\\begin{cases}\n",
    "3ax^2,  &   \\: x  \\:  \\leq 2\\\\\n",
    "2x,  &   \\: x  \\:  > 2\n",
    "\\end{cases}  \n",
    "$$   \n",
    "$$ \n",
    "3ax^2 = 2x\n",
    "$$ \n",
    "-Take the derivative of both functions and set them equal to each other. \n",
    "  \n",
    "$$ 3a(2)^2 = 2(2)  \\qquad \\to  \\qquad  12a = 4 \\qquad \\to  \\qquad \\frac{\\cancel{12}a}{\\cancel{12}}   =  \\frac{4}{12} \\qquad \\to  \\qquad a  =  \\frac{4}{12}  $$ \n",
    "-solve for variable a  \n",
    "  \n",
    "$$\n",
    "\\lim\\limits_{x \\to \\ 2^-} ax^3 \\qquad =  \\qquad a(2)^3  \\qquad =  \\qquad 8a  \\\\  \n",
    "$$\n",
    "$$\n",
    "\\lim\\limits_{x \\to \\ 2^+} (x^2 + b) \\qquad \\to  \\qquad 2^2 + b  \\qquad \\to  \\qquad 4 + b \\\\\n",
    "$$ \n",
    "$$\n",
    "8a = 4 + b\n",
    "$$  \n",
    "-Find left and right limits, set them equal to each other  \n",
    "  \n",
    "$$\n",
    "8 \\frac{1}{3} = 4 + b \\qquad \\to  \\qquad \\frac{8}{3}  = 4 + b  \\qquad \\to  \\qquad  \\frac{8}{3} - 4(\\frac{3}{3})  = b \\qquad \\to  \\qquad \\frac{8}{3} - \\frac{12}{3}  = b \\qquad \\to  \\qquad b = \\frac{-4}{3}\n",
    "$$  \n",
    "  \n",
    "-Substitue back in for a and solve for b  \n",
    "  \n",
    "$ a = \\frac{4}{12},  b = \\frac{-4}{3} $ \n",
    "<hr>"
   ]
  },
  {
   "attachments": {},
   "cell_type": "markdown",
   "metadata": {},
   "source": [
    "Compute $ \\lim\\limits_{x \\to \\ 0} \\frac{tan(2x)}{sin(3x)} $  \n",
    "  \n",
    "$ \\frac{tan[2(0)]}{sin[3(0)]} \\to  \\frac{0}{0} $ -indeterminate form  \n",
    "  \n",
    "$ \\lim\\limits_{x \\to \\ 0}  \\frac{sec^2(2x) * 2}{cos(3x)* 3} $ -L'Hopital rule  \n",
    "  \n",
    "$ \\frac{sec^2[2(0)] * 2}{cos[3(0)]* 3}  \\qquad \\to  \\qquad  \\frac{1 * 2}{1 * 3}  \\qquad =  \\qquad \\frac{2}{3}  $ -substitue and simplyfy  \n",
    "  \n",
    "<hr>"
   ]
  },
  {
   "attachments": {},
   "cell_type": "markdown",
   "metadata": {},
   "source": [
    "Compute $ \\lim\\limits_{x \\to \\ \\infty} \\frac{  \\sqrt{4x^2 + x + 1}   }{3x - 1} $   \n",
    "  \n",
    "$ \\frac{  \\sqrt{\\frac{4x^2}{x^2} + \\frac{x}{x^2} + \\frac{1}{x^2}   }}{\\frac{3x}{-x} - \\frac{1}{-x}} \\qquad \\to  \\qquad  \\frac{\\sqrt{4}}{-3} \\qquad =  \\qquad -\\frac{2}{3} $ divide by largest expont (x). Numbers divide by x that do not cancel go to 0  \n",
    "  \n",
    "<hr>"
   ]
  },
  {
   "attachments": {},
   "cell_type": "markdown",
   "metadata": {},
   "source": [
    "Compute the tangent line to the ellipse given by equation $ x^2 + 4y^2 - 5 $ at point $(1,-1)$  \n",
    "  \n",
    "$ 2x + 8y\\frac{dy}{dx} $ -Take derivative with repect to x  \n",
    "  \n",
    "$ \\frac{dy}{dx} = \\frac{-2x}{8y} $ -isolate $ \\frac{dy}{dx} $  \n",
    "  \n",
    "$  \\frac{dy}{dx} = \\frac{-2(1)}{8(-1)} \\to \\frac{2}{8} \\to \\frac{1}{4} $ -substitue and simplyfy  \n",
    "  \n",
    "$ y - (-1) = \\frac{1}{4}(x - 1) $  -plug the found slope and giving points into the point slope form of a line [$y - y_1 = m(x - x_1)  $]  \n",
    "  \n",
    "$ y + 1 = \\frac{1}{4}(x - 1)  \\qquad \\to  \\qquad   y + 1 = \\frac{1}{4}x - \\frac{1}{4}  \\qquad \\to  \\qquad   y  = \\frac{1}{4}x - \\frac{1}{4} - 1 \\qquad \\to  \\qquad y  = \\frac{1}{4}x - \\frac{5}{4}  $ -solve for y   \n",
    "  \n",
    "<hr>"
   ]
  }
 ],
 "metadata": {
  "kernelspec": {
   "display_name": "Python 3.10.4 64-bit",
   "language": "python",
   "name": "python3"
  },
  "language_info": {
   "codemirror_mode": {
    "name": "ipython",
    "version": 3
   },
   "file_extension": ".py",
   "mimetype": "text/x-python",
   "name": "python",
   "nbconvert_exporter": "python",
   "pygments_lexer": "ipython3",
   "version": "3.10.4 (main, Nov  2 2022, 18:29:07) [GCC 9.4.0]"
  },
  "orig_nbformat": 2,
  "vscode": {
   "interpreter": {
    "hash": "3ad933181bd8a04b432d3370b9dc3b0662ad032c4dfaa4e4f1596c548f763858"
   }
  }
 },
 "nbformat": 4,
 "nbformat_minor": 2
}
