{
 "metadata": {
  "language_info": {
   "codemirror_mode": {
    "name": "ipython",
    "version": 3
   },
   "file_extension": ".py",
   "mimetype": "text/x-python",
   "name": "python",
   "nbconvert_exporter": "python",
   "pygments_lexer": "ipython3",
   "version": "3.7.0-final"
  },
  "orig_nbformat": 2,
  "kernelspec": {
   "name": "Python 3.7.0 32-bit",
   "display_name": "Python 3.7.0 32-bit",
   "metadata": {
    "interpreter": {
     "hash": "482be2162dd88b4608f763c1fe50cb580c83dff4d8a14a2ffe43cf8003c05989"
    }
   }
  }
 },
 "nbformat": 4,
 "nbformat_minor": 2,
 "cells": [
  {
   "source": [
    "# Helpful Math Formulas/Properties\n",
    "\n",
    "## Table of contents\n",
    "\n",
    "- [Quadratic Formula](#quadratic_formula)\n",
    "- [Exponent Properties](#exponent_properties)\n",
    "- [Radians/Degrees](#radians/degrees)\n",
    "- [Power of the imaginary unit](#power_of_the_imaginary_unit)\n",
    "    "
   ],
   "cell_type": "markdown",
   "metadata": {}
  },
  {
   "source": [
    "## Quadratic Formula\n",
    "\n",
    "The Quadratic Formula is used to find the zeros of quadratic equations. \n",
    "\n",
    "The Quadratic Formula is derived from the process of completing the square, and is formally stated as:  \n",
    "  \n",
    "For:$ax^2 + bx + c = 0$  \n",
    "     \n",
    " $x=\\frac{-b\\pm\\sqrt{b^2-4ac}}{2a}$ \n",
    "   \n",
    "(Extra Notes)    \n",
    "-If the number under the square root is a negitive, then the solution is imaginary and does not cross the x axis  \n",
    "  \n",
    "-You can find the nubmer of solutions to the quatratic by solving for the discriminant $b^2-4(a)(c)$  \n",
    "- if $b^2-4(a)(c)>0 \\rightarrow$ 2 solutions\n",
    "- if $b^2-4(a)(c)=0 \\rightarrow$ 1 solutions\n",
    "- if $b^2-4(a)(c)<0 \\rightarrow$ 0 solutions or no real solutions\n",
    "  \n",
    "-Factor Trees can be used to further simplfy the square root. Example: [Factor Trees](https://www.youtube.com/watch?v=SHaf0G_o-A4)\n",
    "   \n",
    "    \n",
    "Example Problem:  \n",
    "Solve $x^2 + 3x - 4 = 0$\n",
    "\n",
    "$x=\\frac{-(3)\\pm\\sqrt{(3)^2-4(1)(-4)}}{2(1)}$ \n",
    "  \n",
    "$x=\\frac{-3\\pm\\sqrt{25}}{2}$ \n",
    "  \n",
    "$x=\\frac{-3\\pm\\sqrt{25}}{2}$ \n",
    "  \n",
    "$x=\\frac{-3\\pm5}{2}$ \n",
    "  \n",
    "$x=\\frac{-3-5}{2}$,$x=\\frac{-3+5}{2}$ \n",
    "  \n",
    "$x=\\frac{-8}{2}$,$x=\\frac{2}{2}$ \n",
    "  \n",
    "$x=-4$,$x=1$ \n"
   ],
   "cell_type": "markdown",
   "metadata": {}
  },
  {
   "source": [
    "## Exponent Properties\n",
    "  \n",
    "### Quick reference table\n",
    " \n",
    "\n",
    "\\begin{array}{|c|c|c|}\n",
    "\\hline \\textbf{Property}  &        \\textbf{Explaination}                                       & \\textbf{Example} \\\\\\hline\n",
    "x^n*x^m=x^{n+m}  &  \\text{Product of Powers:This property states that when multiplying two powers with the same base, we add the exponents.} & 2^3*2^5=2^{8} \\\\\\hline\n",
    "\n",
    "\\frac{x^n}{x^m}=x^{n-m} &  \\text{Quotient of powers:This property states that when dividing two powers with the same base, we subtract the exponents.} & \\frac{3^8}{3^2}=3^{6} \\\\\\hline\n",
    "\n",
    "(x^n)^m=x^{n*m}  &  \\text{Power of a power property:This property states that to find a power of a power we multiply the exponents.} & (5^4)^3=5^{12} \\\\\\hline\n",
    "\n",
    "(x*y)^n=x^n*y^n  &  \\text{Power of a product:This property states that when taking the power of a product, we multiply the powers of the factors.} & (3*5)^6=3^6*5^6 \\\\\\hline\n",
    "\n",
    "(\\frac{x}{y})^n=\\frac{x^n}{y^n}  &  \\text{Power of a quotient:This property states that when taking the power of a quotient, we divide the powers of the numerator and of the denominator.} & (\\frac{2}{3})^5=\\frac{2^5}{3^5}  \\\\\\hline\n",
    "\n",
    "x^{-n}=\\frac{1}{x^n}  &  \\text{Negative Exponents:We define a negative power as the multiplicative inverse of the base raised to the positive opposite of the power.} & 3^{-5}=\\frac{1}{3^5}  \\\\\\hline\n",
    "  \n",
    "\\end{array}\n",
    "  \n",
    "(Extra Notes)  \n",
    "-For negative exponets of fractions, simply take the inverse of the fraction. Example: $(\\frac{5}{8})^{-2}=(\\frac{8}{5})^{2}=(\\frac{64}{25})$"
   ],
   "cell_type": "markdown",
   "metadata": {}
  },
  {
   "source": [
    "## Radians/Degrees\n",
    "\n",
    "To convert radians to degrees or degrees to radians know that:\n",
    "  \n",
    "$2\\pi \\thinspace radians = 360 \\thinspace degrees$\n",
    "    \n",
    "$\\pi \\thinspace radians = 180 \\thinspace degrees$\n",
    "    \n",
    "$\\frac{\\pi \\thinspace radians}{180 \\thinspace degrees}=1=\\frac{180 \\thinspace degrees}{\\pi \\thinspace radians}$\n",
    "  \n",
    "When trying to convert from one version to the other, it helps to remember you always want to divide by the unit you are trying to convert in order to get the \n",
    "units to cancel out.  \n",
    "  \n",
    "Example:  \n",
    "Convert $150^{\\circ}$ to radians  \n",
    "  \n",
    "$ \\require{cancel}$  \n",
    "$150 \\thinspace degrees * \\frac{\\pi \\thinspace radians }{180 \\thinspace degrees} \\rightarrow 150 \\thinspace \\cancel{degrees} * \\frac{\\pi \\thinspace radians }{180 \\thinspace \\cancel{degrees}} $  \n",
    "  \n",
    "$\\frac{150\\pi}{180}\\thinspace radians \\rightarrow \\frac{5\\pi}{6}\\thinspace radians$"
   ],
   "cell_type": "markdown",
   "metadata": {}
  },
  {
   "source": [
    "## Powers of the imaginary unit\n",
    "  \n",
    "### Quick reference table  \n",
    "  \n",
    "\\begin{array}{|cccccccc|}\n",
    " \\hline i^1 & i^2  & i^3 & i^4 & i^5 & i^6 & i^7 & i^8 \\\\\\hline\n",
    " i & -1 & -i & 1 & i & -1 & -i & 1 \\\\\\hline\n",
    "  \n",
    "\\end{array}\n",
    "  \n",
    "The powers of $i$ cycle thought a set sequence: $i,-1,-i,1$  \n",
    "  \n",
    "You can use the [Exponent Properties](#exponent_properties) to help find large powers of $i$ \n",
    "  \n",
    "Example:  \n",
    "$i^{20} = (i^4)^5$ -Power of a power property  \n",
    "$i^{20} = (1)^5$   \n",
    "$i^{20} = 1$ \n",
    "  \n",
    "For large powers of $i$, the trick is to find the closest multiple of 4, then simplify the power down to $i,i^2,i^3$  \n",
    "  \n",
    "Example:  \n",
    "$i^{138} = i^{136}*i^2$  -Product of Powers property \n",
    "  \n",
    "$i^{138} = i^{4*34}*i^2$\n",
    "\n",
    "$i^{138} = (i^4)^{34}*i^2$  -Power of a power property\n",
    "  \n",
    "$i^{138} = (1)^{34}*i^2$\n",
    "  \n",
    "$i^{138} = 1 *-1$\n",
    "  \n",
    "$i^{138} = -1$"
   ],
   "cell_type": "markdown",
   "metadata": {}
  }
 ]
}