{
 "cells": [
  {
   "attachments": {},
   "cell_type": "markdown",
   "metadata": {},
   "source": [
    "A gardeners shovel is 1m long and leaning agaist a fence, sliding down the fence a a rate of .25m/s. When the top of the .5m off the ground, at what rate is the bottom of the shovel sliding along the ground away from the fence?\n",
    "\n",
    "Length of missing side:  \n",
    "$ a^2 + b^2 = c^2 \\qquad \\to  \\qquad .5^2 + b^2 = 1^2 $  \n",
    "$ .25 + b^2 = 1 $  \n",
    "$ b^2 = .75 \\qquad \\to  \\qquad  b =  \\sqrt{\\frac{3}{4}} $  \n",
    "$  b =  \\sqrt{\\frac{3}{4}} \\to \\frac{\\sqrt{3}}{\\sqrt{4}} \\to \\frac{\\sqrt{3}}{2} $\n",
    "\n",
    "  \n",
    "Funtions and variables:\n",
    "- Pythagorean therom : $a^2 + b^2 = c^2 $  \n",
    "- Shovel length : $ c = 1m $\n",
    "- Shovel height : $ a = .5m $\n",
    "- Shovel distance from fence : $ b = (\\frac{\\sqrt{3}}{2}) $ \n",
    "- Rate of change to shovel height : $ \\frac{dc}{dt} = -.25m/s $ *Notice that rate is negitive\n",
    "\n",
    "Differentiate the function:  \n",
    "- $a^2 + b^2 = c^2  \\qquad \\to  \\qquad   2a(\\frac{da}{dt}) + 2b(\\frac{db}{dt}) = 2c(\\frac{dc}{dt})$  \n",
    "  \n",
    "Fill in known variables:  \n",
    "- $ 2a(\\frac{da}{dt}) + 2b(\\frac{db}{dt}) = 2c(\\frac{dc}{dt}) \\qquad \\to  \\qquad 2(.5)(-.25) + 2(\\frac{\\sqrt{3}}{2})(\\frac{dc}{dt}) = 0  \\qquad$ * C goes to 0 because the lenght of the shovel never changes  \n",
    "- $ 2(\\frac{1}{2})(-\\frac{1}{4}) + 2(\\frac{\\sqrt{3}}{2})(\\frac{dc}{dt}) = 0  \\qquad \\to  \\qquad  -\\frac{1}{4} + \\sqrt{3}(\\frac{dc}{dt}) = 0 $ \n",
    "- $-\\frac{1}{4} + \\sqrt{3}(\\frac{dc}{dt}) = 0  \\qquad \\to  \\qquad  \\frac{dc}{dt} =  \\frac{1}{4\\sqrt{3}}  \\qquad \\to  \\qquad  \\frac{dc}{dt} =  \\frac{\\sqrt{3}}{12} $ * Solve for $\\frac{dc}{dt}$. Rationalize the denominator  \n",
    "  \n",
    "Answer: The shovel is sliding along the ground at a rate of $ \\frac{\\sqrt{3}}{12}m/s $ \n",
    "  \n",
    "<hr>"
   ]
  }
 ],
 "metadata": {
  "kernelspec": {
   "display_name": "Python 3.10.4 64-bit",
   "language": "python",
   "name": "python3"
  },
  "language_info": {
   "codemirror_mode": {
    "name": "ipython",
    "version": 3
   },
   "file_extension": ".py",
   "mimetype": "text/x-python",
   "name": "python",
   "nbconvert_exporter": "python",
   "pygments_lexer": "ipython3",
   "version": "3.10.4 (main, Nov  2 2022, 18:29:07) [GCC 9.4.0]"
  },
  "orig_nbformat": 2,
  "vscode": {
   "interpreter": {
    "hash": "3ad933181bd8a04b432d3370b9dc3b0662ad032c4dfaa4e4f1596c548f763858"
   }
  }
 },
 "nbformat": 4,
 "nbformat_minor": 2
}
