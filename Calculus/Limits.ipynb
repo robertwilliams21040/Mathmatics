{
 "cells": [
  {
   "cell_type": "markdown",
   "metadata": {},
   "source": [
    "# Section on limits\n",
    "\n",
    "## Table of contents\n",
    "\n",
    "- [What is a limit?](#what_is_a_limit)\n",
    "- [Solving Limits with Absolute Value](#solving_limits_with_absolute_value)\n",
    "- [Limit Laws](#limit_laws)\n",
    "- [Precise definition of a limit](#precise_definition_of_a_limit)\n",
    "- [Limits approching Infinity](#limits_approching_infinity)\n",
    "- [Intermediate Value theorem](#intermediate_value_theorem) \n",
    "  \n",
    "### Additional References  \n",
    " \n",
    "-Additional Limit examples:[Limit examples](Limits_Examples.ipynb)  \n",
    "  \n",
    "-Flowchart for finding limits:  \n",
    "<img src=\"../Assets/calcflow.png\"  width=\"500\" height=\"500\" style=\"display:block; margin-left:auto; margin-right:auto; width:50%;\">\n"
   ]
  },
  {
   "cell_type": "markdown",
   "metadata": {},
   "source": [
    "## What is a limit?\n",
    "\n",
    "<b>Limits</b> are the value that a function (or sequence) \"approaches\" as the input \"approaches\" some value. In the example below, the limit of the function is \"5\" as x approaches 2 \n",
    "  \n",
    "<b>One-sided limits</b>:The one-sided limits are the left- and right-hand limits. The left-hand limit\n",
    "is the limit of the function as we approach from the left side (or negative\n",
    "side), whereas the right-hand limit is the limit of the function as we\n",
    "approach from the right side (or positive side).\n",
    "  \n",
    "A general limit exists if:\n",
    "\n",
    "- The left-hand limits exists at x = c. Will see left hand limits illustrated as $\\lim\\limits_{x \\to \\ -c}$\n",
    "- The right-hand limits exists at x = c. Will see left hand limits illustrated as $\\lim\\limits_{x \\to \\ +c}$\n",
    "- The the left and right limits are equal to each other\n",
    "  \n",
    "It is possible to not have a general limit if the left and right limit does not exist at x = c or they exist but are not equal to one another.\n",
    "\n"
   ]
  },
  {
   "attachments": {},
   "cell_type": "markdown",
   "metadata": {},
   "source": [
    "Graph Below: $\\lim\\limits_{x \\to \\ 2} \\frac{x^2+x-6}{x-2}$"
   ]
  },
  {
   "cell_type": "code",
   "execution_count": 3,
   "metadata": {},
   "outputs": [
    {
     "name": "stderr",
     "output_type": "stream",
     "text": [
      "/tmp/ipykernel_11046/1258462353.py:4: RuntimeWarning: invalid value encountered in divide\n",
      "  return (x ** 2 + x - 6) / (x - 2)\n"
     ]
    },
    {
     "data": {
      "image/png": "[encoded data removed]",
      "text/plain": [
       "<Figure size 640x480 with 1 Axes>"
      ]
     },
     "metadata": {},
     "output_type": "display_data"
    }
   ],
   "source": [
    "import numpy as np\n",
    "import matplotlib.pyplot as plt\n",
    "def f(x):\n",
    "    return (x ** 2 + x - 6) / (x - 2)\n",
    "xvals = np.linspace(0, 5, 100, False)\n",
    "plt.plot(xvals, f(xvals))\n",
    "plt.show()"
   ]
  },
  {
   "attachments": {},
   "cell_type": "markdown",
   "metadata": {},
   "source": [
    "The function value at x =2 is irrelevant to finding the limit. All that matters is figuring out what the y-values are approaching as we get closer to x = 2. A graph can help us approximate a limit by allowing us to estimate the finite y-value we're approaching as we get closer and closer to some x-value (from both sides).  \n",
    "  \n",
    "*<b>Personal Observation</b>: Preface this with this is just a theory, no proof of any kind so use with caution. It seems that when graphs of limits are undefinded, it means that there is the removeable discontinuity (the undefined nature can be factored out). If there is an asysmtote, then the discontinuity cannot be removed."
   ]
  },
  {
   "cell_type": "markdown",
   "metadata": {},
   "source": [
    "Tables are also helpful for approximating the limit of a function. Common mistakes to watch out for when creating tables to estimate limits are:\n",
    "<ul>\n",
    "    <li>Assuming the function value is the limit value. There is no value for x=2 in the table, which would be 5. Even though the funtion is undefined here, the            limit still exists. Avoid jumping to conclusions about the limit value based on the function value. </li>\n",
    "    <br>\n",
    "    <li>Not getting close enough to the limit value. Avoid picking x-values in increments like {-1,0,1} because this does not get close enough. Use increments such         as {1.9, 1.99, 1.999} to keep shrinking the space and get as close as possible to the limit value. </li>\n",
    "    <br>\n",
    "    <li>Not approaching from both sides: Remember to approach your desired xxx-value from both the left and the right. Remember, for the limit to exist, the left-          and right-hand limits must be equal.</li>\n",
    "    <br>\n",
    "    <li>Confusing the limit value with the function value: Remember that the limit of a function at a certain point isn't necessarily equal to the function's value         at that point.</li>\n",
    "    <br>\n",
    "    <li>Thinking a limit value is always an integer: ie the limit of a table can be around 3.68</li>\n",
    "\n",
    "</ul>"
   ]
  },
  {
   "attachments": {},
   "cell_type": "markdown",
   "metadata": {},
   "source": [
    "Table Below: $\\lim\\limits_{x \\to \\ 2} \\frac{x^2+x-6}{x-2}$"
   ]
  },
  {
   "cell_type": "code",
   "execution_count": 4,
   "metadata": {},
   "outputs": [
    {
     "name": "stderr",
     "output_type": "stream",
     "text": [
      "/tmp/ipykernel_11046/886878490.py:4: RuntimeWarning: invalid value encountered in divide\n",
      "  return (x ** 2 + x - 6) / (x - 2)\n"
     ]
    },
    {
     "data": {
      "text/plain": [
       "array([4.  , 4.04, 4.08, 4.12, 4.16, 4.2 , 4.24, 4.28, 4.32, 4.36, 4.4 ,\n",
       "       4.44, 4.48, 4.52, 4.56, 4.6 , 4.64, 4.68, 4.72, 4.76, 4.8 , 4.84,\n",
       "       4.88, 4.92, 4.96,  nan, 5.04, 5.08, 5.12, 5.16, 5.2 , 5.24, 5.28,\n",
       "       5.32, 5.36, 5.4 , 5.44, 5.48, 5.52, 5.56, 5.6 , 5.64, 5.68, 5.72,\n",
       "       5.76, 5.8 , 5.84, 5.88, 5.92, 5.96])"
      ]
     },
     "execution_count": 4,
     "metadata": {},
     "output_type": "execute_result"
    }
   ],
   "source": [
    "import numpy as np\n",
    "import matplotlib.pyplot as plt\n",
    "def f(x):\n",
    "    return (x ** 2 + x - 6) / (x - 2)\n",
    "xvals = np.linspace(1, 3, 50, False)\n",
    "f(xvals)"
   ]
  },
  {
   "cell_type": "markdown",
   "metadata": {},
   "source": [
    "## Solving Limits with Absolute Value\n",
    "  \n",
    "When solving limits with absolute value, it is important to remember that it is a piecewise function. You must use one-sided limits when solving a limit with an absolute value. The definintion of absolute value is as follows:\n",
    "  \n",
    "\n",
    "$$\n",
    "|x| =\n",
    "\\begin{cases}\n",
    "x,  & \\text{if}  \\: x  \\: \\text{is}  \\geq 0\\\\\n",
    "-x, & \\text{if} \\: x \\: \\text{is} < 0\n",
    "\\end{cases}\n",
    "$$\n",
    "\n",
    "When evaluating the function $\\lim\\limits_{x \\to \\ -6} \\frac{2x+12}{|x+6|}$ we need to first factor out as much as we can to allow us to cancel out the bottom when substituting. \n",
    "\n",
    "$$\n",
    "\\lim\\limits_{x \\to \\ -6} \\frac{2x+12}{|x+6|} \\to \\lim\\limits_{x \\to \\ -6^-} \\frac{2(x+6)}{|x+6|}  \\:\\: \\text{and} \\lim\\limits_{x \\to \\ -6^+} \\frac{2(x+6)}{|x+6|}  \n",
    "$$\n",
    "  \n",
    "With the funtion seperated into one-sided limits, we can apply the definintion of absolute value:\n",
    "$$\n",
    "|x + 6| =\n",
    "\\begin{cases}\n",
    "x + 6,  & \\text{if}  \\: \\: x+6  \\geq 0 \\: \\text{,} \\: x \\geq -6 \\\\\n",
    "-(x+6), & \\text{if}  \\: \\: x+6  < 0 \\: \\text{,} \\: x < -6 \n",
    "\\end{cases}\n",
    "$$\n",
    "The $x+6$ will be applied when approching from the right (because x will be greater then -6 meaning x + 6 will be greater then 0), and $-(x + 6)$ will be applied when approching from the right (because x will be less then -6 meaning x + 6 will be less then 0)\n",
    "  \n",
    "Now, we can make the substitution for the one-sided limits: \n",
    "\n",
    "$$\n",
    "\\lim\\limits_{x \\to \\ -6^-} \\frac{2(x+6)}{|x+6|} \\to \\lim\\limits_{x \\to \\ -6^-} \\frac{2\\cancel{(x+6)}}{-\\cancel{(x+6)}} \\to \n",
    "\\lim\\limits_{x \\to \\ -6^-} \\frac{2}{-1} = -2\n",
    "$$\n",
    "  \n",
    "$$\n",
    "\\lim\\limits_{x \\to \\ -6^+} \\frac{2(x+6)}{|x+6|} \\to \\lim\\limits_{x \\to \\ -6^+} \\frac{2\\cancel{(x+6)}}{\\cancel{(x+6)}} \\to \n",
    "\\lim\\limits_{x \\to \\ -6^+} \\frac{2}{1} = 2\n",
    "$$\n",
    "\n",
    "In this case, a general limit for the funtion does not exist, as the function approches -2 from the left, and 2 from the right"
   ]
  },
  {
   "cell_type": "markdown",
   "metadata": {},
   "source": [
    "## Limit Laws\n",
    "\n",
    "### Quick reference table\n",
    "  \n",
    "  \n",
    "\\begin{array}{|c|c|c|}\n",
    "\\hline \\textbf{Property}  &        \\textbf{Explaination}                                       & \\textbf{Example} \\\\\\hline\n",
    "\\text{Sum of Limits}  &  \\text{Find limits of both functions separately, then add them together.} & \\lim\\limits_{x \\to \\ a}[f(x) + g(x)] = \\lim\\limits_{x \\to \\ a}f(x) + \\lim\\limits_{x \\to \\ a}g(x) \\\\\\hline\n",
    "\n",
    "\\text{Difference of Limits} &  \\text{Find limits of both functions separately then subtract them.} & \\lim\\limits_{x \\to \\ a}[f(x) - g(x)] = \\lim\\limits_{x \\to \\ a}f(x) - \\lim\\limits_{x \\to \\ a}g(x) \\\\\\hline\n",
    "\n",
    "\\text{Constant Law}  &  \\text{If c is a constant, and the limit}\\lim\\limits_{x \\to \\ a}f(x) \\: \\text{exist, move the constant to the outside} & \\lim\\limits_{x \\to \\ a}c * f(x) = c * \\lim\\limits_{x \\to \\ a}f(x) \\\\\\hline\n",
    "\n",
    "\\text{Product of Limits}  &  \\text{Find limits of both functions separately then multiply them.} & \\lim\\limits_{x \\to \\ a}[f(x) * g(x)] = \\lim\\limits_{x \\to \\ a}f(x) * \\lim\\limits_{x \\to \\ a}g(x) \\\\\\hline\n",
    "\n",
    "\\text{Quotient of Limits}  &  \\text{Find limits of both functions separately then divide them (provided that the limit of the denominator is not 0).} & \\lim\\limits_{x \\to \\ a}\\frac{f(x)}{g(x)} = \\frac{\\lim\\limits_{x \\to \\ a}f(x)}{\\lim\\limits_{x \\to \\ a}g(x)} \\\\\\hline\n",
    "\n",
    "  \n",
    "\\end{array}\n",
    "  \n",
    "* Remember that these rules only work, as long as the limits exist. If the limits do not exist, these rules do not apply. \n",
    "\n",
    "(Extra Notes)  \n",
    "If $\\lim\\limits_{x \\to \\ a}f(x) \\neq 0$ and $\\lim\\limits_{x \\to \\ a}g(x) = 0$ then $ \\lim\\limits_{x \\to \\ a}\\frac{f(x)}{g(x)} $  \n",
    "-could be $\\infty$  \n",
    "-could be $-\\infty$  \n",
    "-could not exist if one side is $\\infty$ and one side is $-\\infty$  \n",
    "  \n",
    "If $\\lim\\limits_{x \\to \\ a}f(x) = 0$ and $\\lim\\limits_{x \\to \\ a}g(x) = 0$ then $ \\lim\\limits_{x \\to \\ a}\\frac{f(x)}{g(x)} $  \n",
    "-could exist  \n",
    "-could not exist  \n",
    "-This is called indeterminate form\n",
    "  \n"
   ]
  },
  {
   "cell_type": "markdown",
   "metadata": {},
   "source": [
    "## Precise definition of a limit\n",
    "\n",
    "The precise definition of a limit is a proof for the existance of a given limit.\n",
    "  \n",
    "Precise definition of a limit:  \n",
    "If for every number number $\\epsilon > 0$ there is some number $\\delta > 0$ such that $|f(x) - L| < \\epsilon$ whenever $0 < |x -a| < \\delta$\n",
    "  \n",
    "Simplified: If you take a number that is 'close' to a, you will have a f(x) value that is close to L\n",
    "  \n",
    "Example:  \n",
    "Using the precise definition of a limit, prove the following: $\\lim\\limits_{x \\to \\ 4}2x - 3 = 5$  \n",
    "  \n",
    "$f(x) = 2x - 3$  \n",
    "$L = 5$  \n",
    "$a = 4$ \n",
    "   \n",
    "$|(2x - 3) - 5| < \\epsilon$ whenever $0 < |x - 4| < \\delta$ \n",
    "  \n",
    "Simplify $|(2x - 3) - 5| < \\epsilon$    \n",
    "$|(2x - 3) - 5| < \\epsilon  $  \n",
    "$|2x - 8| < \\epsilon  $   \n",
    "$2|(x - 4)| < \\epsilon $   \n",
    "$|x - 4| < \\frac{\\epsilon}{2} $\n",
    "  \n",
    "Now that we have $|x - 4|$ we can set $\\delta = \\frac{\\epsilon}{2}$  \n",
    "$0 < |x -4| < \\delta = \\frac{\\epsilon}{2}$  \n",
    "  \n",
    "Now we can use substitution:  \n",
    "$|(2x - 3) - 5| =  |2x - 8| $  \n",
    "$|(2x - 3) - 5| =  2|x - 4| $  \n",
    "Using the assumption that $\\delta = \\frac{\\epsilon}{2}$ and that $0 < |x - 4| < \\delta$   \n",
    "$|(2x - 3) - 5| =  2|\\frac{\\epsilon}{2}| $  \n",
    "$|(2x - 3) - 5| =  \\epsilon $\n",
    "  \n",
    "Since we started with $|(2x - 3) - 5| < \\epsilon $ and ended with $\\epsilon$ we have shown that $\\epsilon = \\epsilon$ and that $|(2x - 3) - 5| < \\epsilon$ whenever $0 < |x - 4| < \\delta$ therefore,  \n",
    "$\\lim\\limits_{x \\to \\ 4}2x - 3 = 5$ "
   ]
  },
  {
   "cell_type": "markdown",
   "metadata": {},
   "source": [
    "## Limits approching Infinity \n",
    "  \n",
    "We do not know what happens when x reaches infinity, but we can approach it. When we see $\\lim\\limits_{x \\to \\infty }\\frac{1}{x}$, we know that for large values of x, $\\frac{1}{x}$ goes toward 0.\n",
    "  \n",
    "This means that if the degree of the numerator is less than the degree of the denominator, then the limit is zero.  \n",
    "Example: \n",
    "$\\lim\\limits_{x \\to -\\infty }\\frac{3x^2 + 4x + 3}{x^3 + x + 14}$ -> $\\frac{3x^2}{x^3}$ All other numbers become insignificant  \n",
    "$\\frac{3}{x}$ -> $\\frac{3}{-\\infty} = 0$ \n",
    "  \n",
    "If the degree of numerator equals the degree of the denominator, then the limit is the ratio of the coefficients of highest degree.  \n",
    "Example:  \n",
    "$\\lim\\limits_{x \\to \\infty }\\frac{2x^2 + 6}{3x^2 - 4x + 1}$\n",
    "$\\frac{2x^2}{3x^2}$ -> $\\frac{2}{3}$ Simplify \n",
    "  \n",
    "If degree of numerator is greater than the degree of the denominator, then the limit does not exist (unbounded).  \n",
    "Example:  \n",
    "$\\lim\\limits_{x \\to \\infty }\\frac{2x^2 - 3x + 5}{x - 2}$  \n",
    "$\\frac{2x^2}{x}$ -> $2x = \\infty$\n",
    "  \n",
    "More Examples:  \n",
    "Find the limit of $\\lim\\limits_{x \\to \\infty }\\frac{5x^2 - 4x}{2x^3 - 11x^2 + 12x}$  \n",
    "$\\lim\\limits_{x \\to \\infty }\\frac{5x^2 - 4x}{2x^3 - 11x^2 + 12x} = \\frac{\\infty}{\\infty}$ Direct substitution leads to Indeterminate form   \n",
    "$\\lim\\limits_{x \\to \\infty }\\frac{x^2(5 - \\frac{4}{x})}{x^3(2 - \\frac{11}{x} + \\frac{12}{x^2})} \\to \\frac{1}{x} * \\frac{5 - \\frac{4}{x}}{2 - \\frac{11}{x} + \\frac{12}{x^2}} $ Factor out highest exponent and simplify  \n",
    "$0 * \\frac{5 - 0}{2 - 0 + 0} = 0$ Numbers divided by x go to zero as x goes toward infinity \n",
    "  \n",
    "<br>  \n",
    "\n",
    "Find the limit of $\\lim\\limits_{x \\to \\infty }\\frac{3x^3 + 6x^2 + 10x + 2}{2x^3 + x^2 + 5}$ \n",
    "   \n",
    "$\\lim\\limits_{x \\to \\infty }\\frac{3x^3 + 6x^2 + 10x + 2}{2x^3 + x^2 + 5} \\to \\lim\\limits_{x \\to \\infty }\\frac{x^3 (3 + \\frac{6}{x} + \\frac{10}{x^2} + \\frac{2}{x^3} )}{x^3(2 + \\frac{1}{x} + \\frac{5}{x^3})} $ Factor out highest exponent and simplify  \n",
    "$\\frac{\\cancel{x^3}(3 + 0 + 0 + 0)}{\\cancel{x^3}(2 + 0 + 0)} = \\frac{3}{2}$ Numbers divided by x go to zero as x goes toward infinity.  \n",
    "*Important to note that in this fraction, the $\\frac{x^3}{x^3}$ cancel, giving an answer other then 0.  \n",
    "  \n",
    "### Limits at infinity with square roots\n",
    "  \n",
    "To find limits with square roots, we want to divide both the numverator and the demoninator by some quantity in a way that will help us find the limit.  \n",
    "Example:  \n",
    "$\\lim\\limits_{x \\to -\\infty }\\frac{3x}{\\sqrt{16x^2 - 9x}}$  \n",
    "To find this limit directly, we will want to divide by the leading term x  \n",
    "  \n",
    "*Note: You must remeber that $ x = -\\sqrt{x^2}$ in any problem where $\\lim\\limits_{x \\to -\\infty }$. For values larger then x, this does not apply   \n",
    "IE $x^2 = \\sqrt{x^4}$ where $\\lim\\limits_{x \\to -\\infty }$  \n",
    "$\\lim\\limits_{x \\to -\\infty }\\frac{\\frac{3x}{x}}{\\frac{\\sqrt{16x^2 - 9x}}{-\\sqrt{x^2}}}$ \n",
    "    \n",
    "$\\lim\\limits_{x \\to -\\infty }-\\frac{\\frac{3x}{x}}{\\frac{\\sqrt{16x^2 - 9x}}{-\\sqrt{x^2}}}$ Move negitive in front  \n",
    "  \n",
    "$\\lim\\limits_{x \\to -\\infty }-\\frac{\\frac{3\\cancel{x}}{\\cancel{x}}}{\\sqrt{\\frac{16\\cancel{x^2}}{\\cancel{x^2}}-\\frac{9\\cancel{x}}{x\\cancel{^2}}}}$ Move $x^2$ under the radical and simplify  \n",
    "  \n",
    "$-\\frac{3}{\\sqrt{16 - \\frac{9}{x}}}$ -> $-\\frac{3}{\\sqrt{16 - 0}}$ -> $-\\frac{3}{\\sqrt{16}} = -\\frac{3}{4}$\n"
   ]
  },
  {
   "cell_type": "markdown",
   "metadata": {},
   "source": [
    "## Intermediate Value theorem   \n",
    "  \n",
    "For any function f that is continuous over the interval $[a,b]$, the function will take any value between f(a) and f(b) over the interval.  \n",
    "  \n",
    "Basically, it means that any value on the y-axis (L) between the two points (f(a) and f(b)), there is a point on the x axis (c) that f(c) = L.  \n",
    "\n",
    "This is useful because it guarantees values between the points (a , f(a)) and (b , f(b)).\n",
    "  \n",
    "Consider this table:  \n",
    "  \n",
    "\\begin{array}{|c|c|c|c|c|}\n",
    "\n",
    "\\hline  x  &  -2  &  -1  &   0  &  1   \\\\\\hline\n",
    "\n",
    "f(x)  &  4  &   3  &  -1   &  1   \\\\\\hline\n",
    "\n",
    "\\end{array}\n",
    "  \n",
    "In this table above, when x = -1, f(x) = 3 and when x = 0, f(x) = -1. Therefore, the intermediate value theorem guarantees a value c in $[-1,0]$ which f(c) = 2"
   ]
  },
  {
   "cell_type": "markdown",
   "metadata": {},
   "source": [
    "## Trigonometric Limits  \n",
    "  \n",
    "Limit problems with trigonometric functions usually revolve around three key limit values:\n",
    "  \n",
    "$ \\lim\\limits_{x \\to 0 }\\sin{x} = 0 $  \n",
    "  \n",
    "$ \\lim\\limits_{x \\to 0 }\\cos{x} = 1 $  \n",
    "  \n",
    "$\\lim\\limits_{x \\to 0 }\\frac{\\sin{x}}{x} = 1 $  \n",
    "  \n",
    "In order to re-work trig functions, you will use reciprocal or Pythagorean identities. See the [Calc Cheat Cheat](../Assets/Calculus+1.formulas.pdf) for these formulas. "
   ]
  }
 ],
 "metadata": {
  "kernelspec": {
   "display_name": "Python 3.10.4 64-bit",
   "language": "python",
   "name": "python3"
  },
  "language_info": {
   "codemirror_mode": {
    "name": "ipython",
    "version": 3
   },
   "file_extension": ".py",
   "mimetype": "text/x-python",
   "name": "python",
   "nbconvert_exporter": "python",
   "pygments_lexer": "ipython3",
   "version": "3.10.4 (main, Nov  2 2022, 18:29:07) [GCC 9.4.0]"
  },
  "orig_nbformat": 2,
  "vscode": {
   "interpreter": {
    "hash": "3ad933181bd8a04b432d3370b9dc3b0662ad032c4dfaa4e4f1596c548f763858"
   }
  }
 },
 "nbformat": 4,
 "nbformat_minor": 2
}
