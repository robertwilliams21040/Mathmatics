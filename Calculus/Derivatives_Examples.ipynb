{
 "cells": [
  {
   "cell_type": "markdown",
   "metadata": {},
   "source": [
    "Find the derivative of $ 2x^2 + 2x - 12 $  using the definition of the derivative\n",
    "  \n",
    "$ f(x + h) = 2(x + h)^2 + 2(x + h) - 12 \\to (2x^2 + 4xh + 2h^2 + 2x + 2h - 12) $ -Substitue for f(x + h) and expand \n",
    "  \n",
    "$  f'(x) = \\lim\\limits_{h \\to \\ 0} \\frac{(2x^2 + 4xh + 2h^2 + 2x + 2h - 12) - (2x^2 + 2x - 12)}{h} \\to \\frac{\\cancel{2x^2} + 4xh + 2h^2 + \\cancel{2x} + 2h - \\cancel{12} - \\cancel{2x^2} - \\cancel{2x} + \\cancel{12}}{h} \\to \\frac{4xh + 2h^2 +2h}{h} $-Distribute negitive and simplyfy  \n",
    "  \n",
    "$  f'(x) = \\lim\\limits_{h \\to \\ 0} \\frac{4xh + 2h^2 +2h}{h} \\to \\frac{\\cancel{h} (4x + 2h +2)}{\\cancel{h}} $ -Factor out h and cancel  \n",
    "  \n",
    "$ f'(x) \\lim\\limits_{h \\to \\ 0} = 4x + 2(0) + 2 \\to 4x + 2 $ -Subtitue in 0 for h  \n",
    "  \n",
    "$ f'(x) = 4x + 2  $  \n",
    "  \n",
    "<hr>"
   ]
  },
  {
   "cell_type": "markdown",
   "metadata": {},
   "source": [
    "Find the derivative of $ \\frac{x}{x + 2} $ using the definition of the derivative  \n",
    "  \n",
    "$ \\frac{  \\frac{(x + h)}{(x + h) + 2 }  -  \\frac{x}{x + 2}     } {h} $ -Subtitute the definition of the derivative  \n",
    "  \n",
    "$ \\frac{  \\frac{(x + h)(x + 2) }{(x + h + 2)(x + 2) }  -  \\frac{x(x + h + 2)}{(x + 2)(x + h + 2)}     } {h} = \\frac{  \\frac{(x + h)(x + 2) - x(x + h + 2) }{(x + h + 2)(x + 2)} } {h} $ - find the least common multiple and combine  \n",
    "  \n",
    "$ \\frac{  \\frac{ \\cancel{x^2} + \\cancel{xh} + \\cancel{2x} + 2h - \\cancel{x^2} - \\cancel{xh} - \\cancel{2x}  }{(x + h + 2)(x + 2)} } {h}  \\to \\frac{  \\frac{ 2h }{(x + h + 2)(x + 2)} } {h}  \\to \\frac{ 2\\cancel{h} }{(x + h + 2)(x + 2)} * \\frac{ 1 }{\\cancel{h}}$ -Factor and simplyfily  \n",
    "  \n",
    "$ f'(x) = \\lim\\limits_{h \\to \\ 0} \\frac{ 2 }{(x + 0 + 2)(x + 2)}  \\to \\frac{ 2 }{(x + 2)(x + 2)}  \\to  \\frac{ 2 }{(x + 2)^2}$ -Substitue in 0 for h  \n",
    "  \n",
    "$ f'(x) = \\frac{ 2 }{(x + 2)^2}$  \n",
    "  \n",
    "<hr>"
   ]
  },
  {
   "cell_type": "markdown",
   "metadata": {},
   "source": [
    "Find the derivative of $ y = 3\\sqrt[4]{x^5} - 4\\sqrt[3]{x^7}  $  \n",
    "  \n",
    "$ 3\\sqrt[4]{x^5} - 4\\sqrt[3]{x^7} \\to 3x^{ \\frac{5}{4} } - 4x^{ \\frac{7}{3} }$ -Convert to fractions  \n",
    "  \n",
    "$ 3 (\\frac{5}{4}) x^{ \\frac{5}{4} -  \\frac{4}{4} } - 4 (\\frac{7}{3}) x^{ \\frac{7}{3} - \\frac{3}{3} }   $ -Apply the power rule  \n",
    "  \n",
    "$ y' = \\frac{15}{4} x^{ \\frac{1}{4} }  -  \\frac{28}{3} x^{ \\frac{4}{3} }  \\to  \\frac{15}{4} \\sqrt[4]{x}  - \\frac{28}{3} \\sqrt[3]{x^4} $ -Convert back to fractions if nessasary\n",
    "   \n",
    " <hr> "
   ]
  },
  {
   "attachments": {},
   "cell_type": "markdown",
   "metadata": {},
   "source": [
    "Find the derivative of $ h(x) = \\frac{2 + \\ln[3x]}{x + cot[2x]} $  \n",
    "  \n",
    "$h(x) = \\frac{f(x)}{g(x)}  \\to  h'(x) =  \\frac{f'(x)g(x) - f(x)g'(x)}{[g(x)]^2}$ -Substitue the top and bottom functions as f(x) g(x)  \n",
    "  \n",
    "$ f(x)  = 2 + \\ln[3x] $  \n",
    "$ f'(x) = 0 + \\frac{1}{3x} * 3 \\to \\frac{3}{3x} \\to \\frac{1}{x} $ -Apply chain rule and simplify  \n",
    "$ f'(x) = \\frac{1}{x} $  \n",
    "  \n",
    "$ g(x)  = x + cot[2x] $  \n",
    "$ g'(x) = 1 + -csc^2[2x] * 2 $ -Apply chain rule and simplify  \n",
    "$ g'(x) = 1 - 2csc^2[2x] $  \n",
    "  \n",
    "$ h'(x) =  \\frac{ ( \\frac{1}{x} ) (x + cot[2x])  -  (2 + \\ln[3x]) (1 - 2csc^2[2x] )    }{(x + cot[2x])^2} $ -Subtstitue for the formula. Techinally finish but can simplyfy futher  \n",
    "  \n",
    "$ h'(x) =  \\frac{ ( \\frac{1}{x} ) \\cancel{(x + cot[2x])} }{(x + cot[2x]) \\cancel{^2}     } - \\frac{  (2 + \\ln[3x]) (1 - 2csc^2[2x] )    }{(x + cot[2x])^2}  \\to   \\frac{x}{x} * \\frac{ ( \\frac{1}{x} ) }{(x + cot[2x])      } - \\frac{  (2 + \\ln[3x]) (1 - 2csc^2[2x] )    }{(x + cot[2x])^2}  \\to   \\frac{ 1 }{  x(x + cot[2x])   } - \\frac{  (2 + \\ln[3x]) (1 - 2csc^2[2x] )    }{(x + cot[2x])^2} $ -Split the function $\\frac{a - b}{c} = \\frac{a}{c} - \\frac{b}{c} $ , cancel out like terms, then multiply by $\\frac{x}{x} = 1 $ to simplyfy\n",
    "  \n"
   ]
  }
 ],
 "metadata": {
  "kernelspec": {
   "display_name": "Python 3.10.4 64-bit",
   "language": "python",
   "name": "python3"
  },
  "language_info": {
   "codemirror_mode": {
    "name": "ipython",
    "version": 3
   },
   "file_extension": ".py",
   "mimetype": "text/x-python",
   "name": "python",
   "nbconvert_exporter": "python",
   "pygments_lexer": "ipython3",
   "version": "3.10.4 (main, Nov  2 2022, 18:29:07) [GCC 9.4.0]"
  },
  "orig_nbformat": 2,
  "vscode": {
   "interpreter": {
    "hash": "3ad933181bd8a04b432d3370b9dc3b0662ad032c4dfaa4e4f1596c548f763858"
   }
  }
 },
 "nbformat": 4,
 "nbformat_minor": 2
}
