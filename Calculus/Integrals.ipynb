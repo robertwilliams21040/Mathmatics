{
 "cells": [
  {
   "attachments": {},
   "cell_type": "markdown",
   "metadata": {},
   "source": [
    "# Section on Intergrals\n",
    "\n",
    "## Table of contents\n",
    "\n",
    "- [What is a Integral?](#)\n",
    "\n",
    "  \n",
    "### Additional References  \n",
    "\n"
   ]
  },
  {
   "attachments": {},
   "cell_type": "markdown",
   "metadata": {},
   "source": [
    "## Indefinite Intergrals Quick Reference Tables   \n",
    "   \n",
    "    \n",
    "### Basic Intergral Functions   \n",
    "   \n",
    "\\begin{array}{|c|c|c|}  \n",
    "\\hline \\textbf{Function}  &        \\textbf{Intergral}   &     \\textbf{Restriction}  \\\\\\hline\n",
    "\\int 0 \\, dx                  &     C           &      \\\\\\hline\n",
    "\n",
    "\\int  \\, dx  \\qquad ||  \\qquad \\int 1 \\, dx  &    x + C        &      \\\\\\hline\n",
    "\n",
    "\\int adx \\, dx                &   ax + C        &      \\\\\\hline\n",
    "\n",
    "\\int x^p \\, dx                &   \\frac{x^{p + 1}}{p + 1} +  C  &    p \\neq 1  \\\\\\hline\n",
    "\n",
    "\\int \\frac{1}{x} \\, dx        &   \\ln{|x|} + C  &      \\\\\\hline\n",
    "\n",
    "\n",
    "\n",
    "\\end{array}  \n",
    "\n",
    " "
   ]
  },
  {
   "attachments": {},
   "cell_type": "markdown",
   "metadata": {},
   "source": [
    "### Trigonometric Intergral Functions   \n",
    "   \n",
    "\\begin{array}{|c|c|c|}  \n",
    "\\hline \\textbf{Function}  &        \\textbf{Intergral}   &     \\textbf{Restriction}  \\\\\\hline\n",
    "\\int sin (x) \\, dx        &       -cos(x) + C        &      \\\\\\hline\n",
    "\n",
    "\\int cos (x) \\, dx        &        sin(x) + C         &      \\\\\\hline\n",
    "\n",
    "\\int tan (x) \\, dx        &        -\\ln{|cos(x)|} + C         &      \\\\\\hline\n",
    "\n",
    "\\int csc (x) \\, dx        &       \\ln{| tan{ \\frac{x}{2}  }  |} + C  \\quad || \\quad  -\\ln{|csc(x) + cot(x)  |} + C     &      \\\\\\hline\n",
    "\n",
    "\\int sec (x) \\, dx        &    \\ln{| tan{ \\frac{x}{2}  +  \\frac{\\pi}{4}  }  |} + C  \\quad || \\quad  \\ln{|sec(x) + tan(x)  |} + C           &      \\\\\\hline\n",
    "\n",
    "\\int cot (x) \\, dx        &    \\ln{|sin(x) |} + C            &      \\\\\\hline \n",
    "\n",
    "\\int sec^2 (x) \\, dx        &    tan(x) + C             &      \\\\\\hline \n",
    "\n",
    "\\int csc^2 (x) \\, dx        &      -cot(x) + C           &      \\\\\\hline \n",
    "\n",
    "\\int sec (x) tan (x) \\, dx        &      sec(x) + C           &      \\\\\\hline \n",
    "\n",
    "\\int csc (x) cot (x) \\, dx        &      -csc(x) + C           &      \\\\\\hline \n",
    "\n",
    "\\end{array}  \n",
    "\n",
    "\n",
    "\n"
   ]
  },
  {
   "attachments": {},
   "cell_type": "markdown",
   "metadata": {},
   "source": [
    "### Exponential / Logarithmic Intergral Functions   \n",
    "  \n",
    "\\begin{array}{|c|c|c|}  \n",
    "\\hline \\textbf{Function}  &        \\textbf{Intergral}   &     \\textbf{Restriction}  \\\\\\hline\n",
    "\\int e^x \\, dx                &        e^x  +  C         &      \\\\\\hline\n",
    "\n",
    "\\int \\ln{x} \\, dx             &   x \\ln{x}  - x  + C            &      \\\\\\hline\n",
    "\n",
    "\\int b^x \\, dx                &   \\frac{b^x}{\\ln{b}} +  C       &    b \\neq 1 , b > 0  \\\\\\hline\n",
    "\n",
    "\\int  \\, dx                   &                 &      \\\\\\hline\n",
    "\n",
    "\\int  \\, dx                   &                 &      \\\\\\hline \n",
    "\n",
    "\n",
    "\n",
    "\\end{array}  \n"
   ]
  },
  {
   "attachments": {},
   "cell_type": "markdown",
   "metadata": {},
   "source": [
    "\\begin{array}{|c|c|c|}  \n",
    "\\hline \\textbf{Function}  &        \\textbf{Intergral}   &     \\textbf{Restriction}  \\\\\\hline\n",
    "\\int  \\, dx                   &                 &      \\\\\\hline\n",
    "\n",
    "\\int  \\, dx                   &                 &      \\\\\\hline\n",
    "\n",
    "\\int  \\, dx                   &                 &      \\\\\\hline\n",
    "\n",
    "\\int  \\, dx                   &                 &      \\\\\\hline\n",
    "\n",
    "\\int  \\, dx                   &                 &      \\\\\\hline\n",
    "\n",
    "\\int  \\, dx                   &                 &      \\\\\\hline \n",
    "\n",
    "\n",
    "\n",
    "\\end{array}  \n"
   ]
  }
 ],
 "metadata": {
  "kernelspec": {
   "display_name": "Python 3",
   "language": "python",
   "name": "python3"
  },
  "language_info": {
   "codemirror_mode": {
    "name": "ipython",
    "version": 3
   },
   "file_extension": ".py",
   "mimetype": "text/x-python",
   "name": "python",
   "nbconvert_exporter": "python",
   "pygments_lexer": "ipython3",
   "version": "3.10.4 (main, Nov  2 2022, 18:29:07) [GCC 9.4.0]"
  },
  "orig_nbformat": 2,
  "vscode": {
   "interpreter": {
    "hash": "3ad933181bd8a04b432d3370b9dc3b0662ad032c4dfaa4e4f1596c548f763858"
   }
  }
 },
 "nbformat": 4,
 "nbformat_minor": 2
}
