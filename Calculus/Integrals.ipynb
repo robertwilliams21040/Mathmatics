{
 "cells": [
  {
   "attachments": {},
   "cell_type": "markdown",
   "metadata": {},
   "source": [
    "# Section on Intergrals\n",
    "\n",
    "## Table of contents\n",
    "\n",
    "- [What is a Integral?](#)\n",
    "\n",
    "  \n",
    "### Additional References  \n",
    "\n"
   ]
  }
 ],
 "metadata": {
  "kernelspec": {
   "display_name": ".venv",
   "language": "python",
   "name": "python3"
  },
  "language_info": {
   "codemirror_mode": {
    "name": "ipython",
    "version": 3
   },
   "file_extension": ".py",
   "mimetype": "text/x-python",
   "name": "python",
   "nbconvert_exporter": "python",
   "pygments_lexer": "ipython3",
   "version": "3.11.0 (main, Oct 24 2022, 18:26:48) [MSC v.1933 64 bit (AMD64)]"
  },
  "orig_nbformat": 2,
  "vscode": {
   "interpreter": {
    "hash": "c7f4fbfbb028f8f2a8e5556b647aeb26c1d6dce7ea65428911608b63da388b1b"
   }
  }
 },
 "nbformat": 4,
 "nbformat_minor": 2
}
