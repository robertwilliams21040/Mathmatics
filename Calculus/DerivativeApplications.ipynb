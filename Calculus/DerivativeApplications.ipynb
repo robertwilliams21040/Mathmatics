{
 "cells": [
  {
   "attachments": {},
   "cell_type": "markdown",
   "metadata": {},
   "source": [
    "# Derivivative Applications \n",
    "\n",
    "## Table of contents\n",
    "\n",
    "- [Optimization And Sketching](#optimization-and-sketching)\n",
    "- [Critical Points](#critical-points)\n",
    "  \n",
    "### Additional References  \n",
    "  \n"
   ]
  },
  {
   "attachments": {},
   "cell_type": "markdown",
   "metadata": {},
   "source": [
    "## Optimization And Sketching  \n",
    "  \n",
    "<img src=\"../Assets/Extrema.png\" style=\"display:block; margin-left:auto; margin-right:auto\">  \n",
    "  \n",
    "A functions least and greatest values are called \"extrema\". The least points are called \"minima\" and the greatest points are called \"maxima\"  \n",
    "- Local/Relative maximum : exists whenever a function changes direction from increasing to decreasing ($+ \\to -$)\n",
    "- Global/Absolute maximum : exists if a local maximum is the highest point in the functions domain. A function can only have one (or none) global maximum \n",
    "- Local/Relative minimum : exists whenever a function changes direction from decreasing to increasing ($- \\to +$)\n",
    "- Global/Absolute minimum : exists if a local minimum is the lowest point in the functions domain. A function can only have one (or none) global minimum\n",
    "  \n",
    "In the graph above the function has :  \n",
    "- a local minimum at A and a local minimum at C\n",
    "- a local maximum at B\n",
    "- a global minimum at A\n",
    "- no finite global maximum  "
   ]
  },
  {
   "attachments": {},
   "cell_type": "markdown",
   "metadata": {},
   "source": [
    "## Critical Points  \n",
    "  \n",
    "Critical points exist where the derivative is equal to 0 (or possibly where the derivative is undefined), and they represent points at which the graph of the function will change direction, either from decreasing to increasing, or from increasing to decreasing. To find critical points, we simply take the derivative, set it equal to 0, and\n",
    "then solve for the variable.  \n",
    "  \n",
    "Example: Find the critical points of the function $ f(x) = x + \\frac{4}{x} $  \n",
    "  \n",
    "$ f(x) = x + 4x^{-1} $  -Rewrite function with negitive exponent  \n",
    "  \n",
    "$ f'(x) = x + (-1)4x^{-2} \\to 1 - \\frac{4}{x^2}  $ -Take derivitave and simplyfy  \n",
    "  \n",
    "$ 1 - \\frac{4}{x^2} = 0  \\qquad \\to  \\qquad   1 = \\frac{4}{x^2}  \\qquad  \\to    \\qquad     (x^2)1 = (\\cancel{x^2})\\frac{4}{\\cancel{x^2}}  \\qquad  \\to    \\qquad  x^2 = 4  \\qquad  \\to    \\qquad x = \\pm 2 $  -Solve derivitve for 0 to find the critical points  \n",
    "  \n",
    "Once the critical points have been found, you will have to find numbers to the left and right of the critical points and find if the fucntion is increasing or decreasing overs those intervals. \n",
    "  \n",
    "<img src=\"../Assets/numberline.png\" style=\"display:block; margin-left:auto; margin-right:auto\">  \n",
    "  \n",
    "In the example above you will need to test three intervals: \n",
    "- $ -\\infty < x < -2 $\n",
    "- $ -2 < x < 2 $  \n",
    "- $ 2 < x < \\infty $  \n",
    "\n",
    "*Remeber that the derivative is the slope, so if the number is positive the funtion is increasing, if it is negitive the then function is decreasing. "
   ]
  }
 ],
 "metadata": {
  "kernelspec": {
   "display_name": "Python 3.10.4 64-bit",
   "language": "python",
   "name": "python3"
  },
  "language_info": {
   "codemirror_mode": {
    "name": "ipython",
    "version": 3
   },
   "file_extension": ".py",
   "mimetype": "text/x-python",
   "name": "python",
   "nbconvert_exporter": "python",
   "pygments_lexer": "ipython3",
   "version": "3.10.4 (main, Nov  2 2022, 18:29:07) [GCC 9.4.0]"
  },
  "orig_nbformat": 2,
  "vscode": {
   "interpreter": {
    "hash": "3ad933181bd8a04b432d3370b9dc3b0662ad032c4dfaa4e4f1596c548f763858"
   }
  }
 },
 "nbformat": 4,
 "nbformat_minor": 2
}
