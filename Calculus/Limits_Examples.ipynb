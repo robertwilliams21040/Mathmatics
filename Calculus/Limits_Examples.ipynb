{
 "metadata": {
  "language_info": {
   "codemirror_mode": {
    "name": "ipython",
    "version": 3
   },
   "file_extension": ".py",
   "mimetype": "text/x-python",
   "name": "python",
   "nbconvert_exporter": "python",
   "pygments_lexer": "ipython3",
   "version": 3
  },
  "orig_nbformat": 2
 },
 "nbformat": 4,
 "nbformat_minor": 2,
 "cells": [
  {
   "source": [
    "$ \\require{cancel}$  \n",
    "Find $\\lim\\limits_{x \\to \\ -2}\\frac{x^3 + 3x^2 + 2x}{x + 2}$  \n",
    "  \n",
    "$\\frac{x(x^2 + 3x + 2)}{x+2} \\to \\frac{x(x + 2)(x + 1)}{x+2}$ Factor   \n",
    "$\\frac{x\\cancel{(x + 2)}(x + 1)}{\\cancel{x+2}} \\to x(x + 1) $ Cancel  \n",
    "$x(x + 1) \\to -2(-2 + 1 ) \\to 4 - 2 = 2$ Substitute  \n",
    "   \n",
    "<hr>"
   ],
   "cell_type": "markdown",
   "metadata": {}
  },
  {
   "source": [
    "Find $\\lim\\limits_{x \\to \\ \\frac{\\pi}{2}} \\frac{3cos^2(x)}{2 - 2sin(x)}$  \n",
    "  \n",
    "$\\frac{3cos^2(x)}{2 - 2sin(x)} = \\frac{0}{0}$ Indeterminate Form   \n",
    "$\\frac{3cos^2(x)}{2 - 2sin(x)} \\to \\frac{3(1 - sin^2(x) )}{2 - 2sin(x)}$ Pythagorean Identity  \n",
    "$\\frac{3( 1 - sin^2(x) )}{2 - 2sin(x)} \\to \\frac{3( 1 - sin(x))(1 + sin(x))}{2( 1 - sin(x) )}$ Factor  \n",
    "$\\frac{3\\cancel{(1 - sin(x) )}( 1 + sin(x) )}{2\\cancel{( 1 - sin(x) )}} \\to \\frac{3( 1 + sin(x) )}{2}$ Cancel common factors  \n",
    "$\\frac{3( 1 + 1 )}{2} \\to \\frac{3(2)}{2} \\to \\frac{6}{2} = 3$  \n",
    "  \n",
    "<hr>"
   ],
   "cell_type": "markdown",
   "metadata": {}
  },
  {
   "source": [
    "Find $\\lim\\limits_{x \\to \\ -1}(6x^2 + 5x - 1)$  "
   ],
   "cell_type": "markdown",
   "metadata": {}
  }
 ]
}