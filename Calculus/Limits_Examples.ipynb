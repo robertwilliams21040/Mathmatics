{
 "cells": [
  {
   "cell_type": "markdown",
   "metadata": {},
   "source": [
    "\n",
    "Find $\\lim\\limits_{x \\to \\ -2}\\frac{x^3 + 3x^2 + 2x}{x + 2}$  \n",
    "  \n",
    "$\\frac{x(x^2 + 3x + 2)}{x+2} \\to \\frac{x(x + 2)(x + 1)}{x+2}$ Factor   \n",
    "$\\frac{x\\cancel{(x + 2)}(x + 1)}{\\cancel{x+2}} \\to x(x + 1) $ Cancel  \n",
    "$x(x + 1) \\to -2(-2 + 1 ) \\to 4 - 2 = 2$ Substitute  \n",
    "   \n",
    "<hr>"
   ]
  },
  {
   "cell_type": "markdown",
   "metadata": {},
   "source": [
    "Find $\\lim\\limits_{x \\to \\ \\frac{\\pi}{2}} \\frac{3cos^2(x)}{2 - 2sin(x)}$  \n",
    "  \n",
    "$\\frac{3cos^2(x)}{2 - 2sin(x)} = \\frac{0}{0}$ Indeterminate Form   \n",
    "$\\frac{3cos^2(x)}{2 - 2sin(x)} \\to \\frac{3(1 - sin^2(x) )}{2 - 2sin(x)}$ Pythagorean Identity  \n",
    "$\\frac{3( 1 - sin^2(x) )}{2 - 2sin(x)} \\to \\frac{3( 1 - sin(x))(1 + sin(x))}{2( 1 - sin(x) )}$ Factor  \n",
    "$\\frac{3\\cancel{(1 - sin(x) )}( 1 + sin(x) )}{2\\cancel{( 1 - sin(x) )}} \\to \\frac{3( 1 + sin(x) )}{2}$ Cancel common factors  \n",
    "$\\frac{3( 1 + 1 )}{2} \\to \\frac{3(2)}{2} \\to \\frac{6}{2} = 3$  \n",
    "  \n",
    "<hr>"
   ]
  },
  {
   "cell_type": "markdown",
   "metadata": {},
   "source": [
    "Find $\\lim\\limits_{x \\to \\ \\infty} \\frac{   2x^4 - 7     }{    \\sqrt{4x^8 + 7x^5}      }$  \n",
    "  \n",
    "$\\lim\\limits_{x \\to \\ \\infty} \\frac{  \\frac{ 2x^4 - 7 }{ x^4 }  }{    \\frac{\\sqrt{4x^8 + 7x^5}   }{  \\sqrt{x^8}  }    }$ Divide by leading term x^4 ($\\sqrt{x^8}$ under radical)  \n",
    "  \n",
    "$\\lim\\limits_{x \\to \\ \\infty} \\frac{  \\frac{2\\cancel{x^4}}{\\cancel{x^4}} - \\frac{7}{x^4}  }{  \\sqrt{ \\frac{4\\cancel{x^8}}{\\cancel{x^8}} + \\frac{7\\cancel{x^5}}{\\cancel{x^5} * x^3} }    }$ Seperate terms and cancel  \n",
    "  \n",
    "$\\lim\\limits_{x \\to \\ \\infty} \\frac{ 2 - \\frac{7}{x^4}      }{  \\sqrt{ 4  +  \\frac{7}{x^3}  }  }  \\to \\lim\\limits_{x \\to \\ \\infty}\\frac{2 - 0}{ \\sqrt{4 + 0 }    } $ Terms divided by infinity go to zero   \n",
    "  \n",
    "$\\frac{2}{\\sqrt{4}} = \\frac{2}{2} = 1$  \n",
    "  \n",
    "<hr>"
   ]
  },
  {
   "cell_type": "markdown",
   "metadata": {},
   "source": [
    "Find $\\lim\\limits_{x \\to \\ 3}\\frac{(x - 5)^2}{(x - 3)^2}$  \n",
    "  \n",
    "$\\frac{(3 - 5)^2}{(3 - 3)^2} \\to \\frac{(-2)^2}{(0)^2} \\to \\frac{4}{0}  = DNE $  \n",
    "  \n",
    "<hr>"
   ]
  },
  {
   "cell_type": "markdown",
   "metadata": {},
   "source": [
    " \n",
    "$$ \n",
    "Let \\: g = \n",
    "\\begin{cases}\n",
    "(x - 2)^2,  & \\text{if}  \\: x  \\: \\text{is}  \\leq 2\\\\\n",
    "2 - x^2, & \\text{if} \\: x \\: \\text{is} > 2\n",
    "\\end{cases}\n",
    "$$   \n",
    "\n",
    "Is g continuous at x = 2?\n",
    "    \n",
    "To be continuous, $\\lim\\limits_{x \\to \\ 2}$ g(x) and g(2) need to exist and be equal.\n",
    "  \n",
    "$g(2) = (x - 2)^2 = (2 - 2)^2 = 0$  \n",
    "  \n",
    "$\\lim\\limits_{x \\to \\ 2^+}g(x) = (2 - x^2) = 2 - 2^2 = -2$\n",
    "  \n",
    "$\\lim\\limits_{x \\to \\ 2^-}g(x) = (x - 2)^2 = (2 - 2)^2 = 0$\n",
    "  \n",
    "One sided limits are not equal, so g is not continuous at x = 2 \n",
    "  \n",
    "<hr>"
   ]
  },
  {
   "cell_type": "markdown",
   "metadata": {},
   "source": [
    "Find $\\lim\\limits_{x \\to \\ 2} \\frac{   \\sqrt{4x + 1} -  3   }{    x - 2      }$  \n",
    "  \n",
    "$\\lim\\limits_{x \\to \\ 2} \\frac{   \\sqrt{4x + 1} -  3   }{    x - 2      } * \\frac{   \\sqrt{4x + 1} +  3   }{    \\sqrt{4x + 1} +  3     } $ Multiply by conjugate  \n",
    "   \n",
    "$\\lim\\limits_{x \\to \\ 2} \\frac{   4x + 1 -  9   }{    (x - 2) (\\sqrt{4x + 1} +  3)       } = \\frac{   4x  -  8   }{    (x - 2) (\\sqrt{4x + 1} +  3)     } $ Multiply and simplfy  \n",
    "  \n",
    "$\\lim\\limits_{x \\to \\ 2} \\frac{   4\\cancel{(x - 2 )}   }{    \\cancel{(x - 2)} (\\sqrt{4x + 1} +  3)       } = \\frac{   4   }{     \\sqrt{4x + 1} +  3    } $ Factor and cancel  \n",
    "  \n",
    "$ \\frac{   4   }{    \\sqrt{4 * 2 + 1} +  3       } = \\frac{   4   }{    \\sqrt{9} +  3       }  =  \\frac{   4   }{    3 +  3    }  = \\frac{   4   }{    6    }  =  \\frac{   2   }{    3    }$  Substitute and simplify  \n",
    "  \n",
    "<hr>  "
   ]
  }
 ],
 "metadata": {
  "kernelspec": {
   "display_name": "Python 3.10.4 64-bit",
   "language": "python",
   "name": "python3"
  },
  "language_info": {
   "codemirror_mode": {
    "name": "ipython",
    "version": 3
   },
   "file_extension": ".py",
   "mimetype": "text/x-python",
   "name": "python",
   "nbconvert_exporter": "python",
   "pygments_lexer": "ipython3",
   "version": "3.10.4"
  },
  "orig_nbformat": 2,
  "vscode": {
   "interpreter": {
    "hash": "3ad933181bd8a04b432d3370b9dc3b0662ad032c4dfaa4e4f1596c548f763858"
   }
  }
 },
 "nbformat": 4,
 "nbformat_minor": 2
}
